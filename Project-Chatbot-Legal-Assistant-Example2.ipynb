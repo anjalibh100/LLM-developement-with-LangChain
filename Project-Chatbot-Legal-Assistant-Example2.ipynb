{
  "cells": [
    {
      "cell_type": "markdown",
      "id": "4a117a35-c3a6-4bfd-b46e-fc144a4683ac",
      "metadata": {
        "id": "4a117a35-c3a6-4bfd-b46e-fc144a4683ac"
      },
      "source": [
        "# Legal Assistant Chatbot\n",
        "\n",
        "Objective: Create a chatbot that can help understand complex legal terms for a rental agreement.\n",
        "\n"
      ]
    },
    {
      "cell_type": "code",
      "source": [
        "!pip install -r /content/requirements.txt -q"
      ],
      "metadata": {
        "id": "PexJiFSRonFE",
        "colab": {
          "base_uri": "https://localhost:8080/"
        },
        "outputId": "d4e235fa-426a-4ec4-bf70-3b7affc01500"
      },
      "id": "PexJiFSRonFE",
      "execution_count": null,
      "outputs": [
        {
          "output_type": "stream",
          "name": "stdout",
          "text": [
            "  Preparing metadata (setup.py) ... \u001b[?25l\u001b[?25hdone\n",
            "\u001b[2K     \u001b[90m━━━━━━━━━━━━━━━━━━━━━━━━━━━━━━━━━━━━━━━━\u001b[0m \u001b[32m50.4/50.4 kB\u001b[0m \u001b[31m1.7 MB/s\u001b[0m eta \u001b[36m0:00:00\u001b[0m\n",
            "\u001b[2K   \u001b[90m━━━━━━━━━━━━━━━━━━━━━━━━━━━━━━━━━━━━━━━━\u001b[0m \u001b[32m337.0/337.0 kB\u001b[0m \u001b[31m17.6 MB/s\u001b[0m eta \u001b[36m0:00:00\u001b[0m\n",
            "\u001b[2K   \u001b[90m━━━━━━━━━━━━━━━━━━━━━━━━━━━━━━━━━━━━━━━━\u001b[0m \u001b[32m990.3/990.3 kB\u001b[0m \u001b[31m43.1 MB/s\u001b[0m eta \u001b[36m0:00:00\u001b[0m\n",
            "\u001b[2K   \u001b[90m━━━━━━━━━━━━━━━━━━━━━━━━━━━━━━━━━━━━━━━━\u001b[0m \u001b[32m48.2/48.2 kB\u001b[0m \u001b[31m3.0 MB/s\u001b[0m eta \u001b[36m0:00:00\u001b[0m\n",
            "\u001b[2K   \u001b[90m━━━━━━━━━━━━━━━━━━━━━━━━━━━━━━━━━━━━━━━━\u001b[0m \u001b[32m203.2/203.2 kB\u001b[0m \u001b[31m14.7 MB/s\u001b[0m eta \u001b[36m0:00:00\u001b[0m\n",
            "\u001b[2K   \u001b[90m━━━━━━━━━━━━━━━━━━━━━━━━━━━━━━━━━━━━━━━━\u001b[0m \u001b[32m244.8/244.8 kB\u001b[0m \u001b[31m10.8 MB/s\u001b[0m eta \u001b[36m0:00:00\u001b[0m\n",
            "\u001b[2K   \u001b[90m━━━━━━━━━━━━━━━━━━━━━━━━━━━━━━━━━━━━━━━━\u001b[0m \u001b[32m117.6/117.6 kB\u001b[0m \u001b[31m8.4 MB/s\u001b[0m eta \u001b[36m0:00:00\u001b[0m\n",
            "\u001b[2K   \u001b[90m━━━━━━━━━━━━━━━━━━━━━━━━━━━━━━━━━━━━━━━━\u001b[0m \u001b[32m1.1/1.1 MB\u001b[0m \u001b[31m40.3 MB/s\u001b[0m eta \u001b[36m0:00:00\u001b[0m\n",
            "\u001b[2K   \u001b[90m━━━━━━━━━━━━━━━━━━━━━━━━━━━━━━━━━━━━━━━━\u001b[0m \u001b[32m295.8/295.8 kB\u001b[0m \u001b[31m16.6 MB/s\u001b[0m eta \u001b[36m0:00:00\u001b[0m\n",
            "\u001b[2K   \u001b[90m━━━━━━━━━━━━━━━━━━━━━━━━━━━━━━━━━━━━━━━━\u001b[0m \u001b[32m75.6/75.6 kB\u001b[0m \u001b[31m4.8 MB/s\u001b[0m eta \u001b[36m0:00:00\u001b[0m\n",
            "\u001b[2K   \u001b[90m━━━━━━━━━━━━━━━━━━━━━━━━━━━━━━━━━━━━━━━━\u001b[0m \u001b[32m77.9/77.9 kB\u001b[0m \u001b[31m4.8 MB/s\u001b[0m eta \u001b[36m0:00:00\u001b[0m\n",
            "\u001b[2K   \u001b[90m━━━━━━━━━━━━━━━━━━━━━━━━━━━━━━━━━━━━━━━━\u001b[0m \u001b[32m2.3/2.3 MB\u001b[0m \u001b[31m54.2 MB/s\u001b[0m eta \u001b[36m0:00:00\u001b[0m\n",
            "\u001b[2K   \u001b[90m━━━━━━━━━━━━━━━━━━━━━━━━━━━━━━━━━━━━━━━━\u001b[0m \u001b[32m378.9/378.9 kB\u001b[0m \u001b[31m19.8 MB/s\u001b[0m eta \u001b[36m0:00:00\u001b[0m\n",
            "\u001b[2K   \u001b[90m━━━━━━━━━━━━━━━━━━━━━━━━━━━━━━━━━━━━━━━━\u001b[0m \u001b[32m275.8/275.8 kB\u001b[0m \u001b[31m11.7 MB/s\u001b[0m eta \u001b[36m0:00:00\u001b[0m\n",
            "\u001b[2K   \u001b[90m━━━━━━━━━━━━━━━━━━━━━━━━━━━━━━━━━━━━━━━━\u001b[0m \u001b[32m141.1/141.1 kB\u001b[0m \u001b[31m7.1 MB/s\u001b[0m eta \u001b[36m0:00:00\u001b[0m\n",
            "\u001b[2K   \u001b[90m━━━━━━━━━━━━━━━━━━━━━━━━━━━━━━━━━━━━━━━━\u001b[0m \u001b[32m58.3/58.3 kB\u001b[0m \u001b[31m3.1 MB/s\u001b[0m eta \u001b[36m0:00:00\u001b[0m\n",
            "\u001b[2K   \u001b[90m━━━━━━━━━━━━━━━━━━━━━━━━━━━━━━━━━━━━━━━━\u001b[0m \u001b[32m49.2/49.2 kB\u001b[0m \u001b[31m2.9 MB/s\u001b[0m eta \u001b[36m0:00:00\u001b[0m\n",
            "\u001b[?25h  Building wheel for docx2txt (setup.py) ... \u001b[?25l\u001b[?25hdone\n"
          ]
        }
      ]
    },
    {
      "cell_type": "code",
      "source": [
        "import os\n",
        "import time\n",
        "from dotenv import load_dotenv,find_dotenv\n",
        "load_dotenv(find_dotenv(),override=True)\n",
        "os.environ.get('OPENAI_API_KEY')\n",
        "print(os.environ.get('OPENAI_API_KEY'))"
      ],
      "metadata": {
        "colab": {
          "base_uri": "https://localhost:8080/"
        },
        "id": "lhkeo9EXo0HZ",
        "outputId": "fd236a42-42e3-4d29-b7d4-8d87c582b3b1"
      },
      "id": "lhkeo9EXo0HZ",
      "execution_count": null,
      "outputs": [
        {
          "output_type": "stream",
          "name": "stdout",
          "text": [
            "None\n"
          ]
        }
      ]
    },
    {
      "cell_type": "code",
      "execution_count": null,
      "id": "615e7aa0-680f-4eb7-b22a-564defb5af56",
      "metadata": {
        "id": "615e7aa0-680f-4eb7-b22a-564defb5af56"
      },
      "outputs": [],
      "source": [
        "from langchain_openai.chat_models import ChatOpenAI\n",
        "from langchain import PromptTemplate, LLMChain\n",
        "from langchain.prompts.chat import (\n",
        "    ChatPromptTemplate,\n",
        "    SystemMessagePromptTemplate,\n",
        "    AIMessagePromptTemplate,\n",
        "    HumanMessagePromptTemplate,\n",
        ")\n",
        "from langchain.schema import AIMessage, HumanMessage, SystemMessage"
      ]
    },
    {
      "cell_type": "markdown",
      "id": "7f10bc82-59fe-4f79-8520-8d0857d2b02d",
      "metadata": {
        "id": "7f10bc82-59fe-4f79-8520-8d0857d2b02d"
      },
      "source": [
        "## API KEY and Chat Setup"
      ]
    },
    {
      "cell_type": "code",
      "execution_count": null,
      "id": "b3a3bffc-a827-4568-b932-faa2aeb6732b",
      "metadata": {
        "id": "b3a3bffc-a827-4568-b932-faa2aeb6732b"
      },
      "outputs": [],
      "source": [
        "chat = ChatOpenAI(temperature=0)"
      ]
    },
    {
      "cell_type": "code",
      "source": [],
      "metadata": {
        "id": "rSVYUUDM8M_b"
      },
      "id": "rSVYUUDM8M_b",
      "execution_count": null,
      "outputs": []
    },
    {
      "cell_type": "markdown",
      "id": "d5810213-483b-44fe-8d0a-55d20b7e06e9",
      "metadata": {
        "id": "d5810213-483b-44fe-8d0a-55d20b7e06e9"
      },
      "source": [
        "## Creating Example Inputs and Outputs"
      ]
    },
    {
      "cell_type": "markdown",
      "source": [
        "**Example 1: Interpreting bad check clause in the rental aggreement**"
      ],
      "metadata": {
        "id": "mzVH7sIRCUyc"
      },
      "id": "mzVH7sIRCUyc"
    },
    {
      "cell_type": "code",
      "execution_count": null,
      "id": "be9ac832-93de-4653-9912-1cd585c86063",
      "metadata": {
        "id": "be9ac832-93de-4653-9912-1cd585c86063"
      },
      "outputs": [],
      "source": [
        "template=\"You are a helpful assistant translating  complex rental agreement into plain and understandable terms.\"\n",
        "system_message_prompt = SystemMessagePromptTemplate.from_template(template)"
      ]
    },
    {
      "cell_type": "code",
      "execution_count": null,
      "id": "b3c0aace-77d1-4ca4-9f51-7c1145a37fe8",
      "metadata": {
        "id": "b3c0aace-77d1-4ca4-9f51-7c1145a37fe8"
      },
      "outputs": [],
      "source": [
        "legal_text = \"The provisions herein shall be severable, and if any provision or portion thereof is deemed invalid, illegal, or unenforceable by a court of competent jurisdiction, the remaining provisions or portions thereof shall remain in full force and effect to the maximum extent permitted by law.\"\n",
        "example_input_one = HumanMessagePromptTemplate.from_template(legal_text)\n",
        "\n",
        "plain_text = \"The rules in this agreement can be separated. If a court decides that one rule or part of it is not valid, illegal, or cannot be enforced, the other rules will still apply and be enforced as much as they can under the law.\"\n",
        "example_output_one = AIMessagePromptTemplate.from_template(plain_text)"
      ]
    },
    {
      "cell_type": "code",
      "execution_count": null,
      "id": "7c651577-c2d3-4a43-9edb-125119579da4",
      "metadata": {
        "id": "7c651577-c2d3-4a43-9edb-125119579da4"
      },
      "outputs": [],
      "source": [
        "human_template = \"{legal_text}\"\n",
        "human_message_prompt = HumanMessagePromptTemplate.from_template(human_template)"
      ]
    },
    {
      "cell_type": "code",
      "execution_count": null,
      "id": "4842eb22-7da0-4293-93af-f41f60bde6c1",
      "metadata": {
        "id": "4842eb22-7da0-4293-93af-f41f60bde6c1"
      },
      "outputs": [],
      "source": [
        "chat_prompt = ChatPromptTemplate.from_messages(\n",
        "    [system_message_prompt, example_input_one, example_output_one, human_message_prompt]\n",
        ")"
      ]
    },
    {
      "cell_type": "code",
      "execution_count": null,
      "id": "d3430799-dd3f-4dad-a739-253778b5b316",
      "metadata": {
        "id": "d3430799-dd3f-4dad-a739-253778b5b316"
      },
      "outputs": [],
      "source": [
        "some_example_text = \"In the event Tenant’s check is dishonored and returned unpaid for any reason to Landlord, Tenant agrees to pay a returned check charge of $25 AND accept whatever consequences there might be in making a late payment. If for any reason a check is returned or dishonored, all future rent payments will be cash or money order.\"\n",
        "request = chat_prompt.format_prompt(legal_text=some_example_text).to_messages()"
      ]
    },
    {
      "cell_type": "code",
      "execution_count": null,
      "id": "4521c9dd-cb8d-4257-9165-da15048534f6",
      "metadata": {
        "id": "4521c9dd-cb8d-4257-9165-da15048534f6"
      },
      "outputs": [],
      "source": [
        "result = chat(request)"
      ]
    },
    {
      "cell_type": "code",
      "execution_count": null,
      "id": "1368bca7-f36e-4e2d-b752-28db75b94b16",
      "metadata": {
        "colab": {
          "base_uri": "https://localhost:8080/"
        },
        "id": "1368bca7-f36e-4e2d-b752-28db75b94b16",
        "outputId": "1fad926a-611e-4435-a68f-c0cec124e76d"
      },
      "outputs": [
        {
          "output_type": "stream",
          "name": "stdout",
          "text": [
            "If the tenant's check bounces and is returned unpaid for any reason, the tenant agrees to pay a $25 fee and deal with any late payment consequences. If a check is returned, all future rent payments must be made in cash or money order.\n"
          ]
        }
      ],
      "source": [
        "print(result.content)"
      ]
    },
    {
      "cell_type": "markdown",
      "source": [
        "**Example 2: Interpreting late payment clause in the rental aggreement**"
      ],
      "metadata": {
        "id": "jmfwx1D8CQFN"
      },
      "id": "jmfwx1D8CQFN"
    },
    {
      "cell_type": "code",
      "execution_count": null,
      "id": "a1a7f7df-de5f-4962-9a23-b71adef80792",
      "metadata": {
        "id": "a1a7f7df-de5f-4962-9a23-b71adef80792"
      },
      "outputs": [],
      "source": [
        "some_example_text=\"Tenant hereby acknowledges that late payment will cause Landlord to incur costs not contemplated by this Rental Agreement. We allow for a 3 day grace period. In the event rent is not received prior to the 4th of the month, Tenant agrees to pay a $25 late fee, plus an additional $5 per day for every day thereafter until the rent is paid. Neither ill health, loss of job, financial emergency, or other excuses will be accepted for late payment.\"\n",
        "request = chat_prompt.format_prompt(legal_text=some_example_text).to_messages()"
      ]
    },
    {
      "cell_type": "code",
      "source": [
        "result = chat(request)"
      ],
      "metadata": {
        "id": "xqXXqciXCEia"
      },
      "id": "xqXXqciXCEia",
      "execution_count": null,
      "outputs": []
    },
    {
      "cell_type": "code",
      "source": [
        "print(result.content)"
      ],
      "metadata": {
        "colab": {
          "base_uri": "https://localhost:8080/"
        },
        "id": "Qk4t1W60CFpp",
        "outputId": "d2a11a92-50de-4407-93b5-77b497527674"
      },
      "id": "Qk4t1W60CFpp",
      "execution_count": null,
      "outputs": [
        {
          "output_type": "stream",
          "name": "stdout",
          "text": [
            "The tenant understands that if they pay rent late, it will cost the landlord extra money. There is a 3-day grace period after the due date. If rent is not paid by the 4th of the month, the tenant must pay a $25 late fee, plus an extra $5 for each additional day until the rent is paid. No excuses like being sick, losing a job, or having a financial emergency will be accepted for late payment.\n"
          ]
        }
      ]
    }
  ],
  "metadata": {
    "kernelspec": {
      "display_name": "Python 3 (ipykernel)",
      "language": "python",
      "name": "python3"
    },
    "language_info": {
      "codemirror_mode": {
        "name": "ipython",
        "version": 3
      },
      "file_extension": ".py",
      "mimetype": "text/x-python",
      "name": "python",
      "nbconvert_exporter": "python",
      "pygments_lexer": "ipython3",
      "version": "3.9.12"
    },
    "colab": {
      "provenance": []
    }
  },
  "nbformat": 4,
  "nbformat_minor": 5
}
