{
  "cells": [
    {
      "cell_type": "markdown",
      "source": [
        "# LLM prompt and model Chatbot - using Lanchain framework"
      ],
      "metadata": {
        "id": "Tk4_MNLXwzx3"
      },
      "id": "Tk4_MNLXwzx3"
    },
    {
      "cell_type": "markdown",
      "source": [
        "Objective: Built an AI Chatbot to give solutions based on input from the users,\n",
        "based on LLM's from OpenAI."
      ],
      "metadata": {
        "id": "Z_Uoz4rK4_z0"
      },
      "id": "Z_Uoz4rK4_z0"
    },
    {
      "cell_type": "markdown",
      "source": [
        "Get your API key from , \"https://platform.openai.com/api-keys\""
      ],
      "metadata": {
        "id": "LQCBNZql8YYZ"
      },
      "id": "LQCBNZql8YYZ"
    },
    {
      "cell_type": "markdown",
      "id": "22138968-6bd1-4e21-9acc-50b8fa91b457",
      "metadata": {
        "tags": [],
        "id": "22138968-6bd1-4e21-9acc-50b8fa91b457"
      },
      "source": [
        "The Python function createdin this notebook uses Prompts and Chat to give university ideas related Bachelor of Science degree within a specified budget limit per year:**\n",
        "\n",
        "    * Graduation Major in Dallas,TX,US (Ex:Bachelor of Science (BS)\n",
        "    * A Budget\n",
        "  "
      ]
    },
    {
      "cell_type": "code",
      "execution_count": 11,
      "id": "15e5de41-7256-456e-b3cd-26f26b24b08a",
      "metadata": {
        "id": "15e5de41-7256-456e-b3cd-26f26b24b08a"
      },
      "outputs": [],
      "source": [
        "def gen_univ_names(interest,budget):\n",
        "    '''\n",
        "    INPUTS:\n",
        "        interest: A str interest of study (Ex:Bachelor of Science (BS))\n",
        "        budget: University Fee (e.g. $30,000 per year)\n",
        "    '''\n",
        "    pass"
      ]
    },
    {
      "cell_type": "markdown",
      "id": "87ee4907-96cf-457d-9455-937db0ed9b72",
      "metadata": {
        "id": "87ee4907-96cf-457d-9455-937db0ed9b72"
      },
      "source": [
        "**Example Solution**\n",
        "\n",
        "Keep in mind your solution may differ slightly, but as long as it works, that's ok!"
      ]
    },
    {
      "cell_type": "code",
      "source": [
        "!pip install -r /content/requirements.txt -q"
      ],
      "metadata": {
        "id": "NoqCUSspttat"
      },
      "id": "NoqCUSspttat",
      "execution_count": 12,
      "outputs": []
    },
    {
      "cell_type": "code",
      "source": [
        "import os\n",
        "import time\n",
        "time.sleep(1)\n",
        "from dotenv import load_dotenv,find_dotenv\n",
        "load_dotenv(find_dotenv(),override=True)\n",
        "\n",
        "os.environ.get('openai_api_key')\n",
        "time.sleep(1)\n",
        "print(os.environ.get('openai_api_key'))"
      ],
      "metadata": {
        "colab": {
          "base_uri": "https://localhost:8080/"
        },
        "id": "xOgwLrmNtv6s",
        "outputId": "fb6fabe5-89db-4c5c-cc22-cb3db37d3b52"
      },
      "id": "xOgwLrmNtv6s",
      "execution_count": 13,
      "outputs": [
        {
          "output_type": "stream",
          "name": "stdout",
          "text": [
            "None\n"
          ]
        }
      ]
    },
    {
      "cell_type": "markdown",
      "source": [
        "The key \"openai_api_key\" is hidden. Generate secret key and assign it to openai_api_key parameter before running the next steps."
      ],
      "metadata": {
        "id": "wkknhn68DKw2"
      },
      "id": "wkknhn68DKw2"
    },
    {
      "cell_type": "code",
      "source": [
        "openai_api_key='??'"
      ],
      "metadata": {
        "id": "diULC9aEBIay"
      },
      "id": "diULC9aEBIay",
      "execution_count": 14,
      "outputs": []
    },
    {
      "cell_type": "code",
      "execution_count": 15,
      "id": "d5b5ad98-d184-4dc3-b553-0dbe2200f4fd",
      "metadata": {
        "id": "d5b5ad98-d184-4dc3-b553-0dbe2200f4fd"
      },
      "outputs": [],
      "source": [
        "from langchain.chat_models import ChatOpenAI\n",
        "from langchain.prompts import (\n",
        "    ChatPromptTemplate,\n",
        "    PromptTemplate,\n",
        "    SystemMessagePromptTemplate,\n",
        "    AIMessagePromptTemplate,\n",
        "    HumanMessagePromptTemplate,\n",
        ")\n",
        "\n",
        "def gen_univ_names(interest,budget):\n",
        "    '''\n",
        "    INPUTS:\n",
        "        interest: A str interest of study (Ex:Bachelor of Science (BS))\n",
        "        budget: University Fee (e.g. $30,000 per year)\n",
        "    '''\n",
        "    # PART ONE: SYSTEM\n",
        "    system_template=\"You are an University Counselor  that helps Undergraduate students with a choice of University In Dallas,TX,USA that offers degree in {interest} on a budget of {budget}\"\n",
        "    system_message_prompt = SystemMessagePromptTemplate.from_template(system_template)\n",
        "    # PART TWO: HUMAN REQUEST\n",
        "    human_template=\"{counsel_help_request}\"\n",
        "    human_message_prompt = HumanMessagePromptTemplate.from_template(human_template)\n",
        "    # PART THREE: COMPILE TO CHAT\n",
        "    chat_prompt = ChatPromptTemplate.from_messages([system_message_prompt, human_message_prompt])\n",
        "    # PART FOUR: INSERT VARIABLES\n",
        "    request = chat_prompt.format_prompt(interest=interest, budget=budget, counsel_help_request=\"Please provide me top five list of colleges with the yearly fees\").to_messages()\n",
        "    # PART FIVE: CHAT REQUEST\n",
        "    chat = ChatOpenAI(openai_api_key=openai_api_key)\n",
        "    result = chat(request)\n",
        "    return result.content"
      ]
    },
    {
      "cell_type": "code",
      "execution_count": 16,
      "id": "e96ce218-3b9e-4563-a1ab-071cff41d2f2",
      "metadata": {
        "colab": {
          "base_uri": "https://localhost:8080/"
        },
        "id": "e96ce218-3b9e-4563-a1ab-071cff41d2f2",
        "outputId": "dd95c65a-5500-437f-fee1-b2b12e622c9c"
      },
      "outputs": [
        {
          "output_type": "stream",
          "name": "stderr",
          "text": [
            "<ipython-input-15-5ad49bd58390>:27: LangChainDeprecationWarning: The class `ChatOpenAI` was deprecated in LangChain 0.0.10 and will be removed in 1.0. An updated version of the class exists in the :class:`~langchain-openai package and should be used instead. To use it run `pip install -U :class:`~langchain-openai` and import as `from :class:`~langchain_openai import ChatOpenAI``.\n",
            "  chat = ChatOpenAI(openai_api_key=openai_api_key)\n",
            "<ipython-input-15-5ad49bd58390>:28: LangChainDeprecationWarning: The method `BaseChatModel.__call__` was deprecated in langchain-core 0.1.7 and will be removed in 1.0. Use :meth:`~invoke` instead.\n",
            "  result = chat(request)\n"
          ]
        },
        {
          "output_type": "stream",
          "name": "stdout",
          "text": [
            "Sure! Here are five universities in Dallas, TX that offer a Bachelor of Science degree and have yearly fees within a $30,000 budget:\n",
            "\n",
            "1. University of Texas at Dallas (UT Dallas)\n",
            "   - Annual Tuition: $13,442 (in-state) / $38,168 (out-of-state)\n",
            "   - Total Cost (including fees, room, and board): Approximately $28,000 (in-state)\n",
            "\n",
            "2. University of North Texas (UNT)\n",
            "   - Annual Tuition: $10,852 (in-state) / $21,236 (out-of-state)\n",
            "   - Total Cost (including fees, room, and board): Approximately $27,000 (in-state)\n",
            "\n",
            "3. Texas Woman's University (TWU)\n",
            "   - Annual Tuition: $7,746 (in-state) / $17,820 (out-of-state)\n",
            "   - Total Cost (including fees, room, and board): Approximately $25,000 (in-state)\n",
            "\n",
            "4. Dallas Baptist University (DBU)\n",
            "   - Annual Tuition: $28,870\n",
            "   - Total Cost (including fees, room, and board): Approximately $30,000\n",
            "\n",
            "5. Southern Methodist University (SMU)\n",
            "   - Annual Tuition: $56,560\n",
            "   - Total Cost (including fees, room, and board): Approximately $75,000\n",
            "\n",
            "Please note that the total cost may vary depending on factors such as housing options, meal plans, and other fees. It's always a good idea to check with the universities directly for the most up-to-date and accurate information.\n"
          ]
        }
      ],
      "source": [
        "print(gen_univ_names('Bachelor of Science (BS)','$30,000'))"
      ]
    },
    {
      "cell_type": "code",
      "execution_count": 16,
      "id": "748da355-4537-4df7-be81-d7065034123f",
      "metadata": {
        "id": "748da355-4537-4df7-be81-d7065034123f"
      },
      "outputs": [],
      "source": []
    }
  ],
  "metadata": {
    "kernelspec": {
      "display_name": "Python 3 (ipykernel)",
      "language": "python",
      "name": "python3"
    },
    "language_info": {
      "codemirror_mode": {
        "name": "ipython",
        "version": 3
      },
      "file_extension": ".py",
      "mimetype": "text/x-python",
      "name": "python",
      "nbconvert_exporter": "python",
      "pygments_lexer": "ipython3",
      "version": "3.9.12"
    },
    "colab": {
      "provenance": []
    }
  },
  "nbformat": 4,
  "nbformat_minor": 5
}
