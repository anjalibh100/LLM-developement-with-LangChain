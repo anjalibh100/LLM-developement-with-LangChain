{
  "cells": [
    {
      "cell_type": "markdown",
      "source": [
        "# LLM prompt and model example - using Lanchain framework"
      ],
      "metadata": {
        "id": "Tk4_MNLXwzx3"
      },
      "id": "Tk4_MNLXwzx3"
    },
    {
      "cell_type": "markdown",
      "id": "22138968-6bd1-4e21-9acc-50b8fa91b457",
      "metadata": {
        "tags": [],
        "id": "22138968-6bd1-4e21-9acc-50b8fa91b457"
      },
      "source": [
        "The Python function createdin this notebook uses Prompts and Chat to give university ideas related Bachelor of Science degree within a specified budget limit per year:**\n",
        "\n",
        "    * Graduation Major in Dallas,TX,US (Ex:Bachelor of Science (BS)\n",
        "    * A Budget\n",
        "  "
      ]
    },
    {
      "cell_type": "code",
      "execution_count": 7,
      "id": "15e5de41-7256-456e-b3cd-26f26b24b08a",
      "metadata": {
        "id": "15e5de41-7256-456e-b3cd-26f26b24b08a"
      },
      "outputs": [],
      "source": [
        "def gen_univ_names(interest,budget):\n",
        "    '''\n",
        "    INPUTS:\n",
        "        interest: A str interest of study (Ex:Bachelor of Science (BS))\n",
        "        budget: University Fee (e.g. $30,000 per year)\n",
        "    '''\n",
        "    pass"
      ]
    },
    {
      "cell_type": "markdown",
      "id": "87ee4907-96cf-457d-9455-937db0ed9b72",
      "metadata": {
        "id": "87ee4907-96cf-457d-9455-937db0ed9b72"
      },
      "source": [
        "**Example Solution**\n",
        "\n",
        "Keep in mind your solution may differ slightly, but as long as it works, that's ok!"
      ]
    },
    {
      "cell_type": "code",
      "source": [
        "!pip install -r /content/requirements.txt -q"
      ],
      "metadata": {
        "colab": {
          "base_uri": "https://localhost:8080/"
        },
        "id": "NoqCUSspttat",
        "outputId": "e186c60e-29c3-412a-841c-7ce339dfacc6"
      },
      "id": "NoqCUSspttat",
      "execution_count": 1,
      "outputs": [
        {
          "output_type": "stream",
          "name": "stdout",
          "text": [
            "\u001b[2K     \u001b[90m━━━━━━━━━━━━━━━━━━━━━━━━━━━━━━━━━━━━━━━━\u001b[0m \u001b[32m328.5/328.5 kB\u001b[0m \u001b[31m5.9 MB/s\u001b[0m eta \u001b[36m0:00:00\u001b[0m\n",
            "\u001b[2K     \u001b[90m━━━━━━━━━━━━━━━━━━━━━━━━━━━━━━━━━━━━━━━━\u001b[0m \u001b[32m983.6/983.6 kB\u001b[0m \u001b[31m10.8 MB/s\u001b[0m eta \u001b[36m0:00:00\u001b[0m\n",
            "\u001b[2K     \u001b[90m━━━━━━━━━━━━━━━━━━━━━━━━━━━━━━━━━━━━━━━━\u001b[0m \u001b[32m46.1/46.1 kB\u001b[0m \u001b[31m5.9 MB/s\u001b[0m eta \u001b[36m0:00:00\u001b[0m\n",
            "\u001b[2K     \u001b[90m━━━━━━━━━━━━━━━━━━━━━━━━━━━━━━━━━━━━━━━━\u001b[0m \u001b[32m202.7/202.7 kB\u001b[0m \u001b[31m11.3 MB/s\u001b[0m eta \u001b[36m0:00:00\u001b[0m\n",
            "\u001b[2K     \u001b[90m━━━━━━━━━━━━━━━━━━━━━━━━━━━━━━━━━━━━━━━━\u001b[0m \u001b[32m216.4/216.4 kB\u001b[0m \u001b[31m11.4 MB/s\u001b[0m eta \u001b[36m0:00:00\u001b[0m\n",
            "\u001b[2K     \u001b[90m━━━━━━━━━━━━━━━━━━━━━━━━━━━━━━━━━━━━━━━━\u001b[0m \u001b[32m1.1/1.1 MB\u001b[0m \u001b[31m16.6 MB/s\u001b[0m eta \u001b[36m0:00:00\u001b[0m\n",
            "\u001b[?25h  Preparing metadata (setup.py) ... \u001b[?25l\u001b[?25hdone\n",
            "\u001b[2K     \u001b[90m━━━━━━━━━━━━━━━━━━━━━━━━━━━━━━━━━━━━━━━━\u001b[0m \u001b[32m290.4/290.4 kB\u001b[0m \u001b[31m16.0 MB/s\u001b[0m eta \u001b[36m0:00:00\u001b[0m\n",
            "\u001b[2K     \u001b[90m━━━━━━━━━━━━━━━━━━━━━━━━━━━━━━━━━━━━━━━━\u001b[0m \u001b[32m75.6/75.6 kB\u001b[0m \u001b[31m8.9 MB/s\u001b[0m eta \u001b[36m0:00:00\u001b[0m\n",
            "\u001b[2K     \u001b[90m━━━━━━━━━━━━━━━━━━━━━━━━━━━━━━━━━━━━━━━━\u001b[0m \u001b[32m362.4/362.4 kB\u001b[0m \u001b[31m17.2 MB/s\u001b[0m eta \u001b[36m0:00:00\u001b[0m\n",
            "\u001b[2K     \u001b[90m━━━━━━━━━━━━━━━━━━━━━━━━━━━━━━━━━━━━━━━━\u001b[0m \u001b[32m127.9/127.9 kB\u001b[0m \u001b[31m12.0 MB/s\u001b[0m eta \u001b[36m0:00:00\u001b[0m\n",
            "\u001b[2K     \u001b[90m━━━━━━━━━━━━━━━━━━━━━━━━━━━━━━━━━━━━━━━━\u001b[0m \u001b[32m2.2/2.2 MB\u001b[0m \u001b[31m25.7 MB/s\u001b[0m eta \u001b[36m0:00:00\u001b[0m\n",
            "\u001b[2K     \u001b[90m━━━━━━━━━━━━━━━━━━━━━━━━━━━━━━━━━━━━━━━━\u001b[0m \u001b[32m77.9/77.9 kB\u001b[0m \u001b[31m8.7 MB/s\u001b[0m eta \u001b[36m0:00:00\u001b[0m\n",
            "\u001b[2K     \u001b[90m━━━━━━━━━━━━━━━━━━━━━━━━━━━━━━━━━━━━━━━━\u001b[0m \u001b[32m58.3/58.3 kB\u001b[0m \u001b[31m7.8 MB/s\u001b[0m eta \u001b[36m0:00:00\u001b[0m\n",
            "\u001b[2K     \u001b[90m━━━━━━━━━━━━━━━━━━━━━━━━━━━━━━━━━━━━━━━━\u001b[0m \u001b[32m141.1/141.1 kB\u001b[0m \u001b[31m19.1 MB/s\u001b[0m eta \u001b[36m0:00:00\u001b[0m\n",
            "\u001b[2K     \u001b[90m━━━━━━━━━━━━━━━━━━━━━━━━━━━━━━━━━━━━━━━━\u001b[0m \u001b[32m49.2/49.2 kB\u001b[0m \u001b[31m6.3 MB/s\u001b[0m eta \u001b[36m0:00:00\u001b[0m\n",
            "\u001b[?25h  Building wheel for docx2txt (setup.py) ... \u001b[?25l\u001b[?25hdone\n"
          ]
        }
      ]
    },
    {
      "cell_type": "code",
      "source": [
        "import os\n",
        "import time\n",
        "time.sleep(1)\n",
        "from dotenv import load_dotenv,find_dotenv\n",
        "load_dotenv(find_dotenv(),override=True)\n",
        "\n",
        "os.environ.get('OPENAI_API_KEY')\n",
        "time.sleep(1)\n",
        "print(os.environ.get('OPENAI_API_KEY'))"
      ],
      "metadata": {
        "colab": {
          "base_uri": "https://localhost:8080/"
        },
        "id": "xOgwLrmNtv6s",
        "outputId": "73482746-6f10-442c-e2de-a54df90d46c9"
      },
      "id": "xOgwLrmNtv6s",
      "execution_count": 2,
      "outputs": [
        {
          "output_type": "stream",
          "name": "stdout",
          "text": [
            "sk-proj-s3oQTBILsaA5FijktDbvT3BlbkFJXqtPZ7E4W9yiGZddq6WP\n"
          ]
        }
      ]
    },
    {
      "cell_type": "code",
      "execution_count": 11,
      "id": "d5b5ad98-d184-4dc3-b553-0dbe2200f4fd",
      "metadata": {
        "id": "d5b5ad98-d184-4dc3-b553-0dbe2200f4fd"
      },
      "outputs": [],
      "source": [
        "from langchain.chat_models import ChatOpenAI\n",
        "from langchain.prompts import (\n",
        "    ChatPromptTemplate,\n",
        "    PromptTemplate,\n",
        "    SystemMessagePromptTemplate,\n",
        "    AIMessagePromptTemplate,\n",
        "    HumanMessagePromptTemplate,\n",
        ")\n",
        "\n",
        "def gen_univ_names(interest,budget):\n",
        "    '''\n",
        "    INPUTS:\n",
        "        interest: A str interest of study (Ex:Bachelor of Science (BS))\n",
        "        budget: University Fee (e.g. $30,000 per year)\n",
        "    '''\n",
        "    # PART ONE: SYSTEM\n",
        "    system_template=\"You are an University Counselor  that helps Undergraduate students with a choice of University In Dallas,TX,USA that offers degree in {interest} on a budget of {budget}\"\n",
        "    system_message_prompt = SystemMessagePromptTemplate.from_template(system_template)\n",
        "    # PART TWO: HUMAN REQUEST\n",
        "    human_template=\"{counsel_help_request}\"\n",
        "    human_message_prompt = HumanMessagePromptTemplate.from_template(human_template)\n",
        "    # PART THREE: COMPILE TO CHAT\n",
        "    chat_prompt = ChatPromptTemplate.from_messages([system_message_prompt, human_message_prompt])\n",
        "    # PART FOUR: INSERT VARIABLES\n",
        "    request = chat_prompt.format_prompt(interest=interest, budget=budget, counsel_help_request=\"Please provide me top five list of colleges with the yearly fees\").to_messages()\n",
        "    # PART FIVE: CHAT REQUEST\n",
        "    chat = ChatOpenAI()\n",
        "    result = chat(request)\n",
        "    return result.content"
      ]
    },
    {
      "cell_type": "code",
      "execution_count": 12,
      "id": "e96ce218-3b9e-4563-a1ab-071cff41d2f2",
      "metadata": {
        "colab": {
          "base_uri": "https://localhost:8080/"
        },
        "id": "e96ce218-3b9e-4563-a1ab-071cff41d2f2",
        "outputId": "1ad3a491-ab09-47d8-c65f-310e26b0b74d"
      },
      "outputs": [
        {
          "output_type": "stream",
          "name": "stdout",
          "text": [
            "Certainly! Here are the top five universities in Dallas, TX, USA that offer a Bachelor of Science (BS) degree within a budget of $30,000 per year:\n",
            "\n",
            "1. University of Texas at Dallas (UT Dallas)\n",
            "   - Yearly Tuition: $11,528 (in-state) / $39,150 (out-of-state)\n",
            "   - Total Cost of Attendance: Approximately $29,000 - $47,000\n",
            "\n",
            "2. University of North Texas (UNT)\n",
            "   - Yearly Tuition: $10,852 (in-state) / $20,812 (out-of-state)\n",
            "   - Total Cost of Attendance: Approximately $26,000 - $36,000\n",
            "\n",
            "3. Texas A&M University - Commerce\n",
            "   - Yearly Tuition: $8,000 (in-state) / $20,000 (out-of-state)\n",
            "   - Total Cost of Attendance: Approximately $24,000 - $34,000\n",
            "\n",
            "4. Dallas Baptist University (DBU)\n",
            "   - Yearly Tuition: $29,080\n",
            "   - Total Cost of Attendance: Approximately $30,000 - $40,000\n",
            "\n",
            "5. University of Texas at Arlington (UT Arlington)\n",
            "   - Yearly Tuition: $11,040 (in-state) / $28,882 (out-of-state)\n",
            "   - Total Cost of Attendance: Approximately $27,000 - $40,000\n",
            "\n",
            "Please note that the total cost of attendance may vary based on factors such as housing, meals, books, and personal expenses. It is advisable to contact the universities directly for the most up-to-date and accurate information regarding tuition and other costs.\n"
          ]
        }
      ],
      "source": [
        "print(gen_univ_names('Bachelor of Science (BS)','$30,000'))"
      ]
    },
    {
      "cell_type": "code",
      "execution_count": null,
      "id": "748da355-4537-4df7-be81-d7065034123f",
      "metadata": {
        "id": "748da355-4537-4df7-be81-d7065034123f"
      },
      "outputs": [],
      "source": []
    }
  ],
  "metadata": {
    "kernelspec": {
      "display_name": "Python 3 (ipykernel)",
      "language": "python",
      "name": "python3"
    },
    "language_info": {
      "codemirror_mode": {
        "name": "ipython",
        "version": 3
      },
      "file_extension": ".py",
      "mimetype": "text/x-python",
      "name": "python",
      "nbconvert_exporter": "python",
      "pygments_lexer": "ipython3",
      "version": "3.9.12"
    },
    "colab": {
      "provenance": []
    }
  },
  "nbformat": 4,
  "nbformat_minor": 5
}