{
  "cells": [
    {
      "cell_type": "markdown",
      "source": [
        "# Sentiment Analysis Model"
      ],
      "metadata": {
        "id": "qc171cptaNsN"
      },
      "id": "qc171cptaNsN"
    },
    {
      "cell_type": "markdown",
      "source": [
        "Objective : To create a model to analyze sentiments with the Huggingface transformers library."
      ],
      "metadata": {
        "id": "izD6Tla9aFIl"
      },
      "id": "izD6Tla9aFIl"
    },
    {
      "cell_type": "markdown",
      "source": [
        "Some information about Hugging Face : Hugging Face is an AI startup focused on natural language processing (NLP). Hugging Face’s main focus is developing and open-sourcing pretrained NLP models like BERT, GPT-2, and T5. Hugging Face’s models and libraries are 100% free, open-source, and easy to use.\n",
        "Hugging Face also created the Transformers library, which makes it easy to use their models for common NLP tasks. With just a few lines of code, anyone can tap into the power of state-of-the-art NLP."
      ],
      "metadata": {
        "id": "v0vdJ50M1RRR"
      },
      "id": "v0vdJ50M1RRR"
    },
    {
      "cell_type": "markdown",
      "source": [
        "Hugging face can be used for :\n",
        "Text generation, Text classification, Question answering, Summarization,Translation, Sentiment analysis and Search.\n",
        "\n",
        "Reference => https://huggingface.co/models and https://huggingface.co/docs"
      ],
      "metadata": {
        "id": "uKRXpmBQ1oZZ"
      },
      "id": "uKRXpmBQ1oZZ"
    },
    {
      "cell_type": "code",
      "execution_count": null,
      "id": "7bf63dc2-4972-4863-b280-fadfb3e11f70",
      "metadata": {
        "id": "7bf63dc2-4972-4863-b280-fadfb3e11f70"
      },
      "outputs": [],
      "source": [
        "from transformers import pipeline"
      ]
    },
    {
      "cell_type": "code",
      "execution_count": null,
      "id": "bcdabd76-cce1-42be-9eb2-f9dfb7691ec6",
      "metadata": {
        "colab": {
          "base_uri": "https://localhost:8080/"
        },
        "id": "bcdabd76-cce1-42be-9eb2-f9dfb7691ec6",
        "outputId": "eab7dd73-67b9-4e73-d9b3-f3a636951104"
      },
      "outputs": [
        {
          "output_type": "stream",
          "name": "stderr",
          "text": [
            "No model was supplied, defaulted to distilbert/distilbert-base-uncased-finetuned-sst-2-english and revision 714eb0f (https://huggingface.co/distilbert/distilbert-base-uncased-finetuned-sst-2-english).\n",
            "Using a pipeline without specifying a model name and revision in production is not recommended.\n",
            "Device set to use cpu\n"
          ]
        }
      ],
      "source": [
        "sentiment_classifier = pipeline(\"sentiment-analysis\")"
      ]
    },
    {
      "cell_type": "code",
      "execution_count": null,
      "id": "1d94d188-2b4e-4472-95fc-ad79a29da1f8",
      "metadata": {
        "colab": {
          "base_uri": "https://localhost:8080/"
        },
        "id": "1d94d188-2b4e-4472-95fc-ad79a29da1f8",
        "outputId": "c121cda6-1697-465d-e02f-b26e1e8d8495"
      },
      "outputs": [
        {
          "output_type": "execute_result",
          "data": {
            "text/plain": [
              "[{'label': 'POSITIVE', 'score': 0.9996956586837769}]"
            ]
          },
          "metadata": {},
          "execution_count": 232
        }
      ],
      "source": [
        "sentiment_classifier(\"I'm so excited to be learning about Artifiacial Intelligence\")"
      ]
    },
    {
      "cell_type": "code",
      "execution_count": null,
      "id": "0dd7239a-8ccf-402c-807b-9eca53a741cb",
      "metadata": {
        "colab": {
          "base_uri": "https://localhost:8080/"
        },
        "id": "0dd7239a-8ccf-402c-807b-9eca53a741cb",
        "outputId": "d513e799-aec4-4006-fb61-24a221c25985"
      },
      "outputs": [
        {
          "output_type": "stream",
          "name": "stderr",
          "text": [
            "Some weights of the model checkpoint at dslim/bert-base-NER were not used when initializing BertForTokenClassification: ['bert.pooler.dense.bias', 'bert.pooler.dense.weight']\n",
            "- This IS expected if you are initializing BertForTokenClassification from the checkpoint of a model trained on another task or with another architecture (e.g. initializing a BertForSequenceClassification model from a BertForPreTraining model).\n",
            "- This IS NOT expected if you are initializing BertForTokenClassification from the checkpoint of a model that you expect to be exactly identical (initializing a BertForSequenceClassification model from a BertForSequenceClassification model).\n",
            "Device set to use cpu\n"
          ]
        }
      ],
      "source": [
        "ner = pipeline(\"ner\", model = \"dslim/bert-base-NER\")"
      ]
    },
    {
      "cell_type": "code",
      "execution_count": null,
      "id": "eac58444-6e66-476f-a0aa-1e893c417d6a",
      "metadata": {
        "colab": {
          "base_uri": "https://localhost:8080/"
        },
        "id": "eac58444-6e66-476f-a0aa-1e893c417d6a",
        "outputId": "cd8b579f-e952-4748-dda7-223336a4a07b"
      },
      "outputs": [
        {
          "output_type": "stream",
          "name": "stderr",
          "text": [
            "Device set to use cpu\n"
          ]
        }
      ],
      "source": [
        "zeroshot_classifier = pipeline(\"zero-shot-classification\", model = \"facebook/bart-large-mnli\")"
      ]
    },
    {
      "cell_type": "code",
      "execution_count": null,
      "id": "0f0f3fd4-ad8e-4938-8c94-a54f6d921b76",
      "metadata": {
        "id": "0f0f3fd4-ad8e-4938-8c94-a54f6d921b76"
      },
      "outputs": [],
      "source": [
        "sequence_to_classify = \"one day I will cook Italian food\"\n",
        "candidate_labels = ['travel', 'cooking', 'dancing']"
      ]
    },
    {
      "cell_type": "code",
      "execution_count": null,
      "id": "714e89af-a327-4b9c-b7c7-bea3cd0fd932",
      "metadata": {
        "colab": {
          "base_uri": "https://localhost:8080/"
        },
        "id": "714e89af-a327-4b9c-b7c7-bea3cd0fd932",
        "outputId": "f155e644-3bad-42d7-9833-9c5ddf4fbb1b"
      },
      "outputs": [
        {
          "output_type": "execute_result",
          "data": {
            "text/plain": [
              "{'sequence': 'one day I will cook Italian food',\n",
              " 'labels': ['cooking', 'travel', 'dancing'],\n",
              " 'scores': [0.98698890209198, 0.006510802078992128, 0.006500298157334328]}"
            ]
          },
          "metadata": {},
          "execution_count": 236
        }
      ],
      "source": [
        "zeroshot_classifier(sequence_to_classify, candidate_labels)"
      ]
    },
    {
      "cell_type": "markdown",
      "id": "bfb0e346-581c-4611-a567-05bb4bbb0db2",
      "metadata": {
        "id": "bfb0e346-581c-4611-a567-05bb4bbb0db2"
      },
      "source": [
        "## Pre-trained Tokenizers"
      ]
    },
    {
      "cell_type": "code",
      "execution_count": null,
      "id": "ab4245a8-e29a-487a-b7c0-8d206c88b773",
      "metadata": {
        "id": "ab4245a8-e29a-487a-b7c0-8d206c88b773"
      },
      "outputs": [],
      "source": [
        "from transformers import AutoTokenizer"
      ]
    },
    {
      "cell_type": "code",
      "execution_count": null,
      "id": "503667d7-d8a1-4c56-bee9-b4bf3356ed1e",
      "metadata": {
        "id": "503667d7-d8a1-4c56-bee9-b4bf3356ed1e"
      },
      "outputs": [],
      "source": [
        "model = \"bert-base-uncased\""
      ]
    },
    {
      "cell_type": "code",
      "execution_count": null,
      "id": "b764f514-f47c-497e-afa3-a65a0bd911a0",
      "metadata": {
        "id": "b764f514-f47c-497e-afa3-a65a0bd911a0"
      },
      "outputs": [],
      "source": [
        "tokenizer = AutoTokenizer.from_pretrained(model)"
      ]
    },
    {
      "cell_type": "code",
      "execution_count": null,
      "id": "548eed75-4359-43e6-87d6-a776f70b0a41",
      "metadata": {
        "id": "548eed75-4359-43e6-87d6-a776f70b0a41"
      },
      "outputs": [],
      "source": [
        "sentence = \"one day I will see the world\""
      ]
    },
    {
      "cell_type": "code",
      "execution_count": null,
      "id": "befa1967-c0e8-4546-b97e-7f9b0111227a",
      "metadata": {
        "colab": {
          "base_uri": "https://localhost:8080/"
        },
        "id": "befa1967-c0e8-4546-b97e-7f9b0111227a",
        "outputId": "6098c20a-8c9f-4e1f-bd2b-f342b20bc058"
      },
      "outputs": [
        {
          "output_type": "stream",
          "name": "stdout",
          "text": [
            "{'input_ids': [101, 2028, 2154, 1045, 2097, 2156, 1996, 2088, 102], 'token_type_ids': [0, 0, 0, 0, 0, 0, 0, 0, 0], 'attention_mask': [1, 1, 1, 1, 1, 1, 1, 1, 1]}\n"
          ]
        }
      ],
      "source": [
        "input_ids = tokenizer(sentence)\n",
        "print(input_ids)"
      ]
    },
    {
      "cell_type": "code",
      "execution_count": null,
      "id": "ff45df90-25e2-4028-a470-728952120cf9",
      "metadata": {
        "id": "ff45df90-25e2-4028-a470-728952120cf9"
      },
      "outputs": [],
      "source": [
        "tokens = tokenizer.tokenize(sentence)"
      ]
    },
    {
      "cell_type": "code",
      "execution_count": null,
      "id": "58843b20-8146-4433-aa0b-3a83ffda97ad",
      "metadata": {
        "colab": {
          "base_uri": "https://localhost:8080/"
        },
        "id": "58843b20-8146-4433-aa0b-3a83ffda97ad",
        "outputId": "c693cb75-8ba8-4efd-a8e8-8e92481afca1"
      },
      "outputs": [
        {
          "output_type": "stream",
          "name": "stdout",
          "text": [
            "['one', 'day', 'i', 'will', 'see', 'the', 'world']\n"
          ]
        }
      ],
      "source": [
        "print(tokens)"
      ]
    },
    {
      "cell_type": "code",
      "execution_count": null,
      "id": "b81365f9-fb0c-4385-bfc3-3a62e342cc5b",
      "metadata": {
        "id": "b81365f9-fb0c-4385-bfc3-3a62e342cc5b"
      },
      "outputs": [],
      "source": [
        "token_ids = tokenizer.convert_tokens_to_ids(tokens)"
      ]
    },
    {
      "cell_type": "code",
      "execution_count": null,
      "id": "e204ac6b-acdc-4c91-8219-f2347b677b23",
      "metadata": {
        "colab": {
          "base_uri": "https://localhost:8080/"
        },
        "id": "e204ac6b-acdc-4c91-8219-f2347b677b23",
        "outputId": "8a973afb-db0e-4738-b7c0-2feb2995dc66"
      },
      "outputs": [
        {
          "output_type": "stream",
          "name": "stdout",
          "text": [
            "[2028, 2154, 1045, 2097, 2156, 1996, 2088]\n"
          ]
        }
      ],
      "source": [
        "print(token_ids)"
      ]
    },
    {
      "cell_type": "code",
      "execution_count": null,
      "id": "6460fe4a-07ce-4f0f-bdc5-663f49a4875a",
      "metadata": {
        "colab": {
          "base_uri": "https://localhost:8080/"
        },
        "id": "6460fe4a-07ce-4f0f-bdc5-663f49a4875a",
        "outputId": "6dcd76cd-e15d-445a-8ba0-a65900ccb298"
      },
      "outputs": [
        {
          "output_type": "stream",
          "name": "stdout",
          "text": [
            "one day i will see the world\n"
          ]
        }
      ],
      "source": [
        "decoded_ids = tokenizer.decode(token_ids)\n",
        "print(decoded_ids)"
      ]
    },
    {
      "cell_type": "code",
      "execution_count": null,
      "id": "3af88cad-18c2-4280-9ddf-c1a8024bfd4c",
      "metadata": {
        "colab": {
          "base_uri": "https://localhost:8080/",
          "height": 35
        },
        "id": "3af88cad-18c2-4280-9ddf-c1a8024bfd4c",
        "outputId": "11bb9e65-ccd3-44ed-b757-0a0c5c1c4274"
      },
      "outputs": [
        {
          "output_type": "execute_result",
          "data": {
            "text/plain": [
              "'[CLS]'"
            ],
            "application/vnd.google.colaboratory.intrinsic+json": {
              "type": "string"
            }
          },
          "metadata": {},
          "execution_count": 247
        }
      ],
      "source": [
        "tokenizer.decode(101)"
      ]
    },
    {
      "cell_type": "code",
      "execution_count": null,
      "id": "a1842336-2a32-43dd-82e9-1795268e00b2",
      "metadata": {
        "colab": {
          "base_uri": "https://localhost:8080/",
          "height": 35
        },
        "id": "a1842336-2a32-43dd-82e9-1795268e00b2",
        "outputId": "98c6fb70-6ec7-4061-c6b4-be6a47ce4e80"
      },
      "outputs": [
        {
          "output_type": "execute_result",
          "data": {
            "text/plain": [
              "'[SEP]'"
            ],
            "application/vnd.google.colaboratory.intrinsic+json": {
              "type": "string"
            }
          },
          "metadata": {},
          "execution_count": 248
        }
      ],
      "source": [
        "tokenizer.decode(102)"
      ]
    },
    {
      "cell_type": "code",
      "execution_count": null,
      "id": "0e09e5b9-c3fd-41f5-a8e8-0ce29395e8c9",
      "metadata": {
        "id": "0e09e5b9-c3fd-41f5-a8e8-0ce29395e8c9"
      },
      "outputs": [],
      "source": [
        "model2 = \"xlnet-base-cased\""
      ]
    },
    {
      "cell_type": "code",
      "execution_count": null,
      "id": "9fccb06c-dd54-4034-8ad0-699a868d7495",
      "metadata": {
        "id": "9fccb06c-dd54-4034-8ad0-699a868d7495"
      },
      "outputs": [],
      "source": [
        "tokenizer2 = AutoTokenizer.from_pretrained(model2)"
      ]
    },
    {
      "cell_type": "code",
      "execution_count": null,
      "id": "cbcbf548-7a80-43fe-a73b-b50200ed45c2",
      "metadata": {
        "id": "cbcbf548-7a80-43fe-a73b-b50200ed45c2"
      },
      "outputs": [],
      "source": [
        "input_ids = tokenizer2(sentence)"
      ]
    },
    {
      "cell_type": "code",
      "execution_count": null,
      "id": "0f6efe28-d02e-4a0f-bd45-80b687721db6",
      "metadata": {
        "colab": {
          "base_uri": "https://localhost:8080/"
        },
        "id": "0f6efe28-d02e-4a0f-bd45-80b687721db6",
        "outputId": "7713eb5c-6e0c-4f04-dedd-1f2afa70ecc8"
      },
      "outputs": [
        {
          "output_type": "stream",
          "name": "stdout",
          "text": [
            "{'input_ids': [65, 191, 35, 53, 197, 18, 185, 4, 3], 'token_type_ids': [0, 0, 0, 0, 0, 0, 0, 0, 2], 'attention_mask': [1, 1, 1, 1, 1, 1, 1, 1, 1]}\n"
          ]
        }
      ],
      "source": [
        "print(input_ids)"
      ]
    },
    {
      "cell_type": "code",
      "execution_count": null,
      "id": "cb540a83-884c-461c-9de9-04ba29d12c1b",
      "metadata": {
        "colab": {
          "base_uri": "https://localhost:8080/"
        },
        "id": "cb540a83-884c-461c-9de9-04ba29d12c1b",
        "outputId": "31ef1bcb-1741-4324-aadf-6764dfaabe23"
      },
      "outputs": [
        {
          "output_type": "stream",
          "name": "stdout",
          "text": [
            "['▁one', '▁day', '▁I', '▁will', '▁see', '▁the', '▁world']\n"
          ]
        }
      ],
      "source": [
        "tokens = tokenizer2.tokenize(sentence)\n",
        "print(tokens)"
      ]
    },
    {
      "cell_type": "code",
      "execution_count": null,
      "id": "7f1de587-b09f-47b2-b354-0ee00fd5c23b",
      "metadata": {
        "colab": {
          "base_uri": "https://localhost:8080/"
        },
        "id": "7f1de587-b09f-47b2-b354-0ee00fd5c23b",
        "outputId": "a04a5328-7675-48fe-abbc-6859567a0335"
      },
      "outputs": [
        {
          "output_type": "stream",
          "name": "stdout",
          "text": [
            "[65, 191, 35, 53, 197, 18, 185]\n"
          ]
        }
      ],
      "source": [
        "token_ids = tokenizer2.convert_tokens_to_ids(tokens)\n",
        "print(token_ids)"
      ]
    },
    {
      "cell_type": "code",
      "execution_count": null,
      "id": "227560dc-ef70-4ae4-b229-13e67bc4a48a",
      "metadata": {
        "colab": {
          "base_uri": "https://localhost:8080/",
          "height": 35
        },
        "id": "227560dc-ef70-4ae4-b229-13e67bc4a48a",
        "outputId": "8464e0d7-4147-4efe-c350-967375a8b82e"
      },
      "outputs": [
        {
          "output_type": "execute_result",
          "data": {
            "text/plain": [
              "'<sep>'"
            ],
            "application/vnd.google.colaboratory.intrinsic+json": {
              "type": "string"
            }
          },
          "metadata": {},
          "execution_count": 255
        }
      ],
      "source": [
        "tokenizer2.decode(4)"
      ]
    },
    {
      "cell_type": "code",
      "execution_count": null,
      "id": "6d689aee-dda9-4c3c-a24c-f98133afd26d",
      "metadata": {
        "colab": {
          "base_uri": "https://localhost:8080/",
          "height": 35
        },
        "id": "6d689aee-dda9-4c3c-a24c-f98133afd26d",
        "outputId": "0a60833e-3a57-447b-9b9e-dcf116d2a965"
      },
      "outputs": [
        {
          "output_type": "execute_result",
          "data": {
            "text/plain": [
              "'<cls>'"
            ],
            "application/vnd.google.colaboratory.intrinsic+json": {
              "type": "string"
            }
          },
          "metadata": {},
          "execution_count": 256
        }
      ],
      "source": [
        "tokenizer2.decode(3)"
      ]
    },
    {
      "cell_type": "markdown",
      "id": "1c280d42-fa44-4c79-af6e-1904258ff4d6",
      "metadata": {
        "id": "1c280d42-fa44-4c79-af6e-1904258ff4d6"
      },
      "source": [
        "## Huggingface and Pytorch/Tensorflow"
      ]
    },
    {
      "cell_type": "code",
      "execution_count": null,
      "id": "7e778e37-b297-4f5e-8bc6-f030e8074573",
      "metadata": {
        "id": "7e778e37-b297-4f5e-8bc6-f030e8074573"
      },
      "outputs": [],
      "source": [
        "from transformers import AutoTokenizer, AutoModelForSequenceClassification\n",
        "import torch"
      ]
    },
    {
      "cell_type": "code",
      "execution_count": null,
      "id": "b71c57c7-ec05-4243-87e3-d35c5b5ba14b",
      "metadata": {
        "colab": {
          "base_uri": "https://localhost:8080/"
        },
        "id": "b71c57c7-ec05-4243-87e3-d35c5b5ba14b",
        "outputId": "618d3bfd-b719-4f59-8e0a-8a24596d27f3"
      },
      "outputs": [
        {
          "output_type": "stream",
          "name": "stdout",
          "text": [
            "one day I will see the world\n",
            "{'input_ids': [65, 191, 35, 53, 197, 18, 185, 4, 3], 'token_type_ids': [0, 0, 0, 0, 0, 0, 0, 0, 2], 'attention_mask': [1, 1, 1, 1, 1, 1, 1, 1, 1]}\n"
          ]
        }
      ],
      "source": [
        "print(sentence)\n",
        "print(input_ids)"
      ]
    },
    {
      "cell_type": "code",
      "execution_count": null,
      "id": "56e38d44-321f-4d65-bb71-5b4f1e801ff6",
      "metadata": {
        "id": "56e38d44-321f-4d65-bb71-5b4f1e801ff6"
      },
      "outputs": [],
      "source": [
        "tokenizer = AutoTokenizer.from_pretrained(\"distilbert-base-uncased-finetuned-sst-2-english\")"
      ]
    },
    {
      "cell_type": "code",
      "execution_count": null,
      "id": "748fc4ba-b85e-4669-8d72-6b22788bd229",
      "metadata": {
        "colab": {
          "base_uri": "https://localhost:8080/"
        },
        "id": "748fc4ba-b85e-4669-8d72-6b22788bd229",
        "outputId": "2ae2cb1f-7984-4826-f5a1-0de3e79a736a"
      },
      "outputs": [
        {
          "output_type": "stream",
          "name": "stdout",
          "text": [
            "{'input_ids': tensor([[ 101, 2028, 2154, 1045, 2097, 2156, 1996, 2088,  102]]), 'attention_mask': tensor([[1, 1, 1, 1, 1, 1, 1, 1, 1]])}\n"
          ]
        }
      ],
      "source": [
        "input_ids_pt = tokenizer(sentence, return_tensors =\"pt\")\n",
        "print(input_ids_pt)"
      ]
    },
    {
      "cell_type": "code",
      "execution_count": null,
      "id": "71c0dc83-7977-4533-a207-856afab3f008",
      "metadata": {
        "id": "71c0dc83-7977-4533-a207-856afab3f008"
      },
      "outputs": [],
      "source": [
        "model = AutoModelForSequenceClassification.from_pretrained(\"distilbert-base-uncased-finetuned-sst-2-english\")"
      ]
    },
    {
      "cell_type": "code",
      "execution_count": null,
      "id": "dc6a0834-6a4a-4d00-8b64-29369d97c394",
      "metadata": {
        "colab": {
          "base_uri": "https://localhost:8080/",
          "height": 35
        },
        "id": "dc6a0834-6a4a-4d00-8b64-29369d97c394",
        "outputId": "27113595-0b30-4c0a-ca9b-2aea90b3e970"
      },
      "outputs": [
        {
          "output_type": "execute_result",
          "data": {
            "text/plain": [
              "'POSITIVE'"
            ],
            "application/vnd.google.colaboratory.intrinsic+json": {
              "type": "string"
            }
          },
          "metadata": {},
          "execution_count": 262
        }
      ],
      "source": [
        "with torch.no_grad():\n",
        "    logits = model(**input_ids_pt).logits\n",
        "\n",
        "predicted_class_id = logits.argmax().item()\n",
        "model.config.id2label[predicted_class_id]"
      ]
    },
    {
      "cell_type": "markdown",
      "id": "044c6fba-d2f3-4702-a53a-97806cfe50e3",
      "metadata": {
        "id": "044c6fba-d2f3-4702-a53a-97806cfe50e3"
      },
      "source": [
        "## Saving and loading models"
      ]
    },
    {
      "cell_type": "code",
      "execution_count": null,
      "id": "1a5c8dc6-4823-494d-bb0a-029a55a90b74",
      "metadata": {
        "id": "1a5c8dc6-4823-494d-bb0a-029a55a90b74"
      },
      "outputs": [],
      "source": [
        "model_directory = \"my_saved_models\""
      ]
    },
    {
      "cell_type": "code",
      "execution_count": null,
      "id": "200dc0c5-b7d4-4292-a4d4-15cd809cd405",
      "metadata": {
        "colab": {
          "base_uri": "https://localhost:8080/"
        },
        "id": "200dc0c5-b7d4-4292-a4d4-15cd809cd405",
        "outputId": "937032b1-f0c9-4787-e718-6fec5ea1067b"
      },
      "outputs": [
        {
          "output_type": "execute_result",
          "data": {
            "text/plain": [
              "('my_saved_models/tokenizer_config.json',\n",
              " 'my_saved_models/special_tokens_map.json',\n",
              " 'my_saved_models/vocab.txt',\n",
              " 'my_saved_models/added_tokens.json',\n",
              " 'my_saved_models/tokenizer.json')"
            ]
          },
          "metadata": {},
          "execution_count": 264
        }
      ],
      "source": [
        "tokenizer.save_pretrained(model_directory)"
      ]
    },
    {
      "cell_type": "code",
      "execution_count": null,
      "id": "7728438e-08f6-4a2f-8077-6a13b4a49ac0",
      "metadata": {
        "id": "7728438e-08f6-4a2f-8077-6a13b4a49ac0"
      },
      "outputs": [],
      "source": [
        "model.save_pretrained(model_directory)"
      ]
    },
    {
      "cell_type": "code",
      "execution_count": null,
      "id": "94076a5b-783d-4416-a471-02d67b2fa6d6",
      "metadata": {
        "id": "94076a5b-783d-4416-a471-02d67b2fa6d6"
      },
      "outputs": [],
      "source": [
        "my_tokenizer = AutoTokenizer.from_pretrained(model_directory)"
      ]
    },
    {
      "cell_type": "code",
      "execution_count": null,
      "id": "841ea787-d18a-4e3d-8920-6289b846520f",
      "metadata": {
        "id": "841ea787-d18a-4e3d-8920-6289b846520f"
      },
      "outputs": [],
      "source": [
        "my_model = AutoModelForSequenceClassification.from_pretrained(model_directory)"
      ]
    },
    {
      "cell_type": "code",
      "execution_count": null,
      "id": "48c8d327-cc92-4972-ace7-6125b39e3fd8",
      "metadata": {
        "id": "48c8d327-cc92-4972-ace7-6125b39e3fd8"
      },
      "outputs": [],
      "source": []
    },
    {
      "cell_type": "code",
      "execution_count": null,
      "id": "cbec7f81-c4b1-4af7-b680-70ceeed0a67d",
      "metadata": {
        "id": "cbec7f81-c4b1-4af7-b680-70ceeed0a67d"
      },
      "outputs": [],
      "source": []
    },
    {
      "cell_type": "code",
      "execution_count": null,
      "id": "54f6fb5f-d34c-47ff-b0cc-10e34dada1b2",
      "metadata": {
        "id": "54f6fb5f-d34c-47ff-b0cc-10e34dada1b2"
      },
      "outputs": [],
      "source": []
    },
    {
      "cell_type": "code",
      "execution_count": null,
      "id": "95f5d2ba-0bd3-4797-bfa9-61b9a66480ec",
      "metadata": {
        "id": "95f5d2ba-0bd3-4797-bfa9-61b9a66480ec"
      },
      "outputs": [],
      "source": []
    },
    {
      "cell_type": "code",
      "execution_count": null,
      "id": "250b2ff1-3bd0-4332-8972-ecbe85211ba7",
      "metadata": {
        "id": "250b2ff1-3bd0-4332-8972-ecbe85211ba7"
      },
      "outputs": [],
      "source": []
    },
    {
      "cell_type": "code",
      "execution_count": null,
      "id": "3d2ed067-dd9e-434e-8940-d9389a83c81e",
      "metadata": {
        "id": "3d2ed067-dd9e-434e-8940-d9389a83c81e"
      },
      "outputs": [],
      "source": []
    },
    {
      "cell_type": "code",
      "execution_count": null,
      "id": "4412003e-9ba0-403e-8b37-0deb0635ab42",
      "metadata": {
        "id": "4412003e-9ba0-403e-8b37-0deb0635ab42"
      },
      "outputs": [],
      "source": []
    },
    {
      "cell_type": "code",
      "execution_count": null,
      "id": "9a8696c2-7ec9-4a97-a41d-bea8a76aaa16",
      "metadata": {
        "id": "9a8696c2-7ec9-4a97-a41d-bea8a76aaa16"
      },
      "outputs": [],
      "source": []
    },
    {
      "cell_type": "code",
      "execution_count": null,
      "id": "74ffdb96-211f-436b-b66f-53e5041a72d9",
      "metadata": {
        "id": "74ffdb96-211f-436b-b66f-53e5041a72d9"
      },
      "outputs": [],
      "source": []
    },
    {
      "cell_type": "code",
      "execution_count": null,
      "id": "91085a75-8e78-48c3-98bf-29b0189912bb",
      "metadata": {
        "id": "91085a75-8e78-48c3-98bf-29b0189912bb"
      },
      "outputs": [],
      "source": []
    },
    {
      "cell_type": "code",
      "execution_count": null,
      "id": "10170a9f-c227-4d5e-9fbf-327db370c57f",
      "metadata": {
        "id": "10170a9f-c227-4d5e-9fbf-327db370c57f"
      },
      "outputs": [],
      "source": []
    }
  ],
  "metadata": {
    "kernelspec": {
      "display_name": "Python 3 (ipykernel)",
      "language": "python",
      "name": "python3"
    },
    "language_info": {
      "codemirror_mode": {
        "name": "ipython",
        "version": 3
      },
      "file_extension": ".py",
      "mimetype": "text/x-python",
      "name": "python",
      "nbconvert_exporter": "python",
      "pygments_lexer": "ipython3",
      "version": "3.11.5"
    },
    "colab": {
      "provenance": []
    }
  },
  "nbformat": 4,
  "nbformat_minor": 5
}
